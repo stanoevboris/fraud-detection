{
 "cells": [
  {
   "cell_type": "markdown",
   "id": "4c93e9f3-933f-4e60-b9f0-7657bfd59b4b",
   "metadata": {},
   "source": [
    "# Evaluate models"
   ]
  },
  {
   "cell_type": "code",
   "execution_count": 1,
   "id": "33189342-1f7c-435d-bd1f-59cd50a59f76",
   "metadata": {},
   "outputs": [
    {
     "name": "stdout",
     "output_type": "stream",
     "text": [
      "['.git', '.gitignore', '.idea', 'architecture-design', 'Diplomska-draft.docx', 'docker', 'drive-download-20211215T213754Z-001.zip', 'drive-download-20211221T190522Z-001.zip', 'evaluated-data', 'models', 'notebooks', 'README.md', 'scripts', 'simulated-data-raw', 'spark-warehouse', 'transformed-data', 'venv']\n"
     ]
    }
   ],
   "source": [
    "import os\n",
    "os.chdir('../')\n",
    "print(os.listdir())"
   ]
  },
  {
   "cell_type": "code",
   "execution_count": 2,
   "id": "e91c46ab-b2bf-44dc-a73c-e447fc145ae2",
   "metadata": {},
   "outputs": [],
   "source": [
    "import seaborn as sns\n",
    "import pandas as pd\n",
    "from numpy import median\n"
   ]
  },
  {
   "cell_type": "code",
   "execution_count": 3,
   "id": "4bc090e5-12c0-4d77-aa00-b05551d1881c",
   "metadata": {
    "id": "a168b949-ece9-483e-a59f-84ad16c730b1"
   },
   "outputs": [],
   "source": [
    "import findspark\n",
    "\n",
    "findspark.init()\n",
    "findspark.find()\n",
    "import pyspark\n",
    "from pyspark.sql import SparkSession\n",
    "\n",
    "from pyspark.ml.tuning import CrossValidatorModel"
   ]
  },
  {
   "cell_type": "code",
   "execution_count": 4,
   "id": "e7df1ba7-1dd4-46d8-94bf-9f9ad5db970f",
   "metadata": {},
   "outputs": [],
   "source": [
    "spark = SparkSession.builder.appName('Spark').master(\"local[*]\").getOrCreate()"
   ]
  },
  {
   "cell_type": "code",
   "execution_count": 5,
   "id": "c657ba19-2e69-41dc-bae9-20375d86a7bc",
   "metadata": {},
   "outputs": [],
   "source": [
    "data = spark.read.parquet(\"transformed-data/test/test_set.parquet\", engine='fastparquet')"
   ]
  },
  {
   "cell_type": "code",
   "execution_count": 6,
   "id": "d6226ba4-810b-4bef-98dd-b757509c9ba2",
   "metadata": {},
   "outputs": [],
   "source": [
    "# model \n",
    "models = list()\n",
    "# metric\n",
    "metrics = list()\n",
    "# score\n",
    "scores = list()"
   ]
  },
  {
   "cell_type": "markdown",
   "id": "78bdb1c8-0fd4-405c-abeb-898321eabfe9",
   "metadata": {
    "tags": []
   },
   "source": [
    "## Random Forest"
   ]
  },
  {
   "cell_type": "code",
   "execution_count": 5,
   "id": "712d3d78-9555-449f-b87e-bd44c949c877",
   "metadata": {
    "id": "f413d447-6be0-40e7-8007-7598b054bd2e"
   },
   "outputs": [],
   "source": [
    "rf_roc = CrossValidatorModel.read().load('models/cv-random-forest-roc')\n",
    "rf_pr = CrossValidatorModel.read().load('models/cv-random-forest-pr')"
   ]
  },
  {
   "cell_type": "code",
   "execution_count": 8,
   "id": "fd3a5e9b-d8b9-40f6-adbb-de1232e897d2",
   "metadata": {},
   "outputs": [],
   "source": [
    "rf_roc_preds = rf_roc.transform(data)\n",
    "rf_pr_preds = rf_pr.transform(data)\n",
    "roc_score = rf_roc.getEvaluator().evaluate(rf_roc_preds)\n",
    "pr_score = rf_pr.getEvaluator().evaluate(rf_pr_preds)"
   ]
  },
  {
   "cell_type": "code",
   "execution_count": 9,
   "id": "35f89fc3-c827-4394-9111-8a0d283173ec",
   "metadata": {},
   "outputs": [],
   "source": [
    "models.append('RF')\n",
    "models.append('RF')\n",
    "metrics.append('ROC_AUC')\n",
    "metrics.append('AUC_PR')\n",
    "scores.append(roc_score)\n",
    "scores.append(pr_score)"
   ]
  },
  {
   "cell_type": "markdown",
   "id": "b1bc4548-fb25-493f-abfc-494d81b653f2",
   "metadata": {
    "tags": []
   },
   "source": [
    "## Logistic Regression"
   ]
  },
  {
   "cell_type": "code",
   "execution_count": 10,
   "id": "603393b1-5810-4541-9930-b4468ff5c8c3",
   "metadata": {
    "id": "f413d447-6be0-40e7-8007-7598b054bd2e"
   },
   "outputs": [],
   "source": [
    "lr_roc = CrossValidatorModel.read().load('models/cv-logistic-regression-roc')\n",
    "lr_pr = CrossValidatorModel.read().load('models/cv-logistic-regression-pr')"
   ]
  },
  {
   "cell_type": "code",
   "execution_count": 11,
   "id": "8eada50a-7647-45f1-bcf1-226314a2eaa1",
   "metadata": {},
   "outputs": [],
   "source": [
    "lr_roc_preds = lr_roc.transform(data)\n",
    "lr_pr_preds = lr_pr.transform(data)\n",
    "roc_score = lr_roc.getEvaluator().evaluate(lr_roc_preds)\n",
    "pr_score = lr_pr.getEvaluator().evaluate(lr_pr_preds)"
   ]
  },
  {
   "cell_type": "code",
   "execution_count": 12,
   "id": "c5adc64d-dac5-4ec1-b51f-66ecf3fc85be",
   "metadata": {},
   "outputs": [],
   "source": [
    "models.append('LR')\n",
    "models.append('LR')\n",
    "metrics.append('ROC_AUC')\n",
    "metrics.append('AUC_PR')\n",
    "scores.append(roc_score)\n",
    "scores.append(pr_score)"
   ]
  },
  {
   "cell_type": "markdown",
   "id": "746ec7e8-71bd-4c03-be37-cf31251267bd",
   "metadata": {
    "tags": []
   },
   "source": [
    "## Gradient-Boosted Tree"
   ]
  },
  {
   "cell_type": "code",
   "execution_count": 13,
   "id": "040ca877-4b71-414a-8039-bd3c9ec30a3f",
   "metadata": {
    "id": "f413d447-6be0-40e7-8007-7598b054bd2e"
   },
   "outputs": [],
   "source": [
    "gbt_roc = CrossValidatorModel.read().load('models/cv-gbt-roc')\n",
    "gbt_pr = CrossValidatorModel.read().load('models/cv-gbt-pr')"
   ]
  },
  {
   "cell_type": "code",
   "execution_count": 14,
   "id": "b2f4878d-a82e-4696-844a-7fba447f5b3f",
   "metadata": {},
   "outputs": [],
   "source": [
    "gbt_roc_preds = gbt_roc.transform(data)\n",
    "gbt_pr_preds = gbt_pr.transform(data)\n",
    "roc_score = gbt_roc.getEvaluator().evaluate(gbt_roc_preds)\n",
    "pr_score = gbt_pr.getEvaluator().evaluate(gbt_pr_preds)"
   ]
  },
  {
   "cell_type": "code",
   "execution_count": 15,
   "id": "17b8f6c3-d69c-46a6-b424-9c98d336ccf4",
   "metadata": {},
   "outputs": [],
   "source": [
    "models.append('GBT')\n",
    "models.append('GBT')\n",
    "metrics.append('ROC_AUC')\n",
    "metrics.append('AUC_PR')\n",
    "scores.append(roc_score)\n",
    "scores.append(pr_score)"
   ]
  },
  {
   "cell_type": "markdown",
   "id": "d5199e83-dfcd-44de-821c-4f6612328fe1",
   "metadata": {
    "tags": []
   },
   "source": [
    "## Linear Support Vector Machine"
   ]
  },
  {
   "cell_type": "code",
   "execution_count": 16,
   "id": "57407d77-2efd-499f-8daf-ffad39064f8b",
   "metadata": {
    "id": "f413d447-6be0-40e7-8007-7598b054bd2e"
   },
   "outputs": [],
   "source": [
    "svm_roc = CrossValidatorModel.read().load('models/cv-svm-roc')\n",
    "svm_pr = CrossValidatorModel.read().load('models/cv-svm-pr')"
   ]
  },
  {
   "cell_type": "code",
   "execution_count": 17,
   "id": "1a144fb0-6a0e-4c30-b718-9273188af572",
   "metadata": {},
   "outputs": [],
   "source": [
    "svm_roc_preds = svm_roc.transform(data)\n",
    "svm_pr_preds = svm_pr.transform(data)\n",
    "roc_score = svm_roc.getEvaluator().evaluate(svm_roc_preds)\n",
    "pr_score = svm_pr.getEvaluator().evaluate(svm_pr_preds)"
   ]
  },
  {
   "cell_type": "code",
   "execution_count": 18,
   "id": "6fcdbcea-cbf7-4855-be54-84e5c0c7651c",
   "metadata": {},
   "outputs": [],
   "source": [
    "models.append('SVM')\n",
    "models.append('SVM')\n",
    "metrics.append('ROC_AUC')\n",
    "metrics.append('AUC_PR')\n",
    "scores.append(roc_score)\n",
    "scores.append(pr_score)"
   ]
  },
  {
   "cell_type": "markdown",
   "id": "9e125295-0941-46f7-b70f-2f4e72901217",
   "metadata": {},
   "source": [
    "# Visualized Results"
   ]
  },
  {
   "cell_type": "code",
   "execution_count": 19,
   "id": "a8d1c48a-ebf1-4c94-9d41-6a6f9f9220ec",
   "metadata": {},
   "outputs": [],
   "source": [
    "sns.set_theme(style='whitegrid')"
   ]
  },
  {
   "cell_type": "code",
   "execution_count": 20,
   "id": "449720a7-0dce-43a4-ac07-3e33a8a44389",
   "metadata": {},
   "outputs": [],
   "source": [
    "eval_df = pd.DataFrame({'model': models, 'metric': metrics, 'score': scores})"
   ]
  },
  {
   "cell_type": "code",
   "execution_count": 21,
   "id": "b9fc2b3d-2d73-4ad4-9a19-2e25c9e4f436",
   "metadata": {},
   "outputs": [
    {
     "data": {
      "image/png": "[encoded data removed]",
      "text/plain": [
       "<Figure size 432x288 with 1 Axes>"
      ]
     },
     "metadata": {},
     "output_type": "display_data"
    }
   ],
   "source": [
    "g = sns.barplot(x=\"model\", y=\"score\", hue='metric', data=eval_df)\n",
    "for bar in g.patches:\n",
    "    height = bar.get_height()\n",
    "    g.text(bar.get_x() + bar.get_width() / 2., 0.5 * height, round(height,3),\n",
    "                ha='center', va='center', color='white')"
   ]
  }
 ],
 "metadata": {
  "kernelspec": {
   "display_name": "Python 3 (ipykernel)",
   "language": "python",
   "name": "python3"
  },
  "language_info": {
   "codemirror_mode": {
    "name": "ipython",
    "version": 3
   },
   "file_extension": ".py",
   "mimetype": "text/x-python",
   "name": "python",
   "nbconvert_exporter": "python",
   "pygments_lexer": "ipython3",
   "version": "3.7.9"
  }
 },
 "nbformat": 4,
 "nbformat_minor": 5
}
